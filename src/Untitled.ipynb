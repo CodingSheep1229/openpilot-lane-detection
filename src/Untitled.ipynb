{
 "cells": [
  {
   "cell_type": "code",
   "execution_count": 5,
   "metadata": {},
   "outputs": [],
   "source": [
    "import numpy as np\n",
    "import math\n",
    "import os\n",
    "import cv2\n",
    "from PIL import Image, ImageDraw\n",
    "import datetime"
   ]
  },
  {
   "cell_type": "code",
   "execution_count": 2,
   "metadata": {},
   "outputs": [],
   "source": [
    "%load_ext autoreload\n",
    "%autoreload 2\n",
    "from utils.PathModel import PathModel\n",
    "from utils.img import imshow\n",
    "from utils.transform import *\n",
    "from utils.postprocess import *"
   ]
  },
  {
   "cell_type": "code",
   "execution_count": 4,
   "metadata": {},
   "outputs": [],
   "source": [
    "img = cv2.imread('data/pics/0.png')\n",
    "# res = draw_lane(img, model)"
   ]
  },
  {
   "cell_type": "code",
   "execution_count": 3,
   "metadata": {},
   "outputs": [
    {
     "name": "stdout",
     "output_type": "stream",
     "text": [
      "(1140,)\n"
     ]
    }
   ],
   "source": [
    "a = np.fromfile('data/results/res0.raw',dtype=np.float32)\n",
    "a = np.array(a)\n",
    "print(a.shape)\n",
    "model = PathModel(a)"
   ]
  },
  {
   "cell_type": "code",
   "execution_count": null,
   "metadata": {},
   "outputs": [],
   "source": [
    "import cv2\n",
    "import numpy as np\n",
    "\n",
    "MODEL_PATH_MAX_VERTICES_CNT=98\n",
    "\n",
    "intrinsic = np.array([\n",
    "  [910., 0., 582.],\n",
    "  [0., 910., 437.],\n",
    "  [0.,   0.,   1.]\n",
    "])\n",
    "\n",
    "# eon_focal_length=910\n",
    "# medmodel_zoom = 1.\n",
    "# MEDMODEL_INPUT_SIZE = (512, 256)\n",
    "# MEDMODEL_YUV_SIZE = (MEDMODEL_INPUT_SIZE[0], MEDMODEL_INPUT_SIZE[1] * 3 // 2)\n",
    "# MEDMODEL_CY = 47.6\n",
    "# intrinsic = np.array(\n",
    "#   [[ eon_focal_length / medmodel_zoom,    0. ,  0.5 * MEDMODEL_INPUT_SIZE[0]],\n",
    "#    [   0. ,  eon_focal_length / medmodel_zoom,  MEDMODEL_CY],\n",
    "#    [   0. ,                            0. ,   1.]])\n",
    "\n",
    "# BIGMODEL_INPUT_SIZE = (864, 288)\n",
    "# BIGMODEL_YUV_SIZE = (BIGMODEL_INPUT_SIZE[0], BIGMODEL_INPUT_SIZE[1] * 3 // 2)\n",
    "\n",
    "# bigmodel_zoom = 1.\n",
    "# intrinsic = np.array(\n",
    "#   [[ eon_focal_length / bigmodel_zoom,    0. , 0.5 * BIGMODEL_INPUT_SIZE[0]],\n",
    "#    [   0. ,  eon_focal_length / bigmodel_zoom,  0.2 * BIGMODEL_INPUT_SIZE[1]],\n",
    "#    [   0. ,                            0. ,   1.]])\n",
    "\n",
    "def car_space_to_full_frame(car_space_projective):\n",
    "\textrinsic = np.array([[ 9.86890774e-03, -9.99951124e-01, -6.39820937e-04, 0.00000000e+00],\n",
    "\t   [-6.46961704e-02, -5.42101086e-20, -9.97905016e-01, 1.22000003e+00],\n",
    "\t   [ 9.97856200e-01,  9.88962594e-03, -6.46930113e-02, 0.00000000e+00]])\n",
    "# \textrinsic = np.array([[ 0.  , -1.  ,  0.  ,  0.  ],\n",
    "#        [ 0.  ,  0.  , -1.  ,  1.22],\n",
    "#        [ 1.  ,  0.  ,  0.  ,  0.  ]])\n",
    "\n",
    "\tep = extrinsic.dot(car_space_projective)\n",
    "\t# print(ep.shape)\n",
    "\tkep = intrinsic.dot(ep)\n",
    "\tp_image = np.array([kep[0]/kep[2], kep[1]/kep[2]])\n",
    "\treturn p_image\n",
    "\n",
    "class Pvd():\n",
    "\tclass pt():\n",
    "\t\tdef __init__(self,x,y):\n",
    "\t\t\tself.x = x\n",
    "\t\t\tself.y = y\n",
    "\t\tdef __repr__(self):\n",
    "\t\t\treturn '('+str(self.x)+','+str(self.y)+')'\n",
    "\tdef __init__(self):\n",
    "\t\tself.cnt = 0\n",
    "\t\tself.v = []\n",
    "\tdef add_pt(self,x,y):\n",
    "\t\tp = self.pt(x,y)\n",
    "\t\tself.v.append(p)\n",
    "\tdef __repr__(self):\n",
    "\t\treturn str(self.v)\n",
    "\n",
    "def update_lane_line_data(points, off, is_ghost):\n",
    "\tpvd = Pvd()\n",
    "\tfor i in range(MODEL_PATH_MAX_VERTICES_CNT // 2):\n",
    "\t\tpx = float(i)\n",
    "\t\tpy = points[i] - off\n",
    "\t\tp_car_space = np.array([px, py, 0, 1])\n",
    "\t\tp_full_frame = car_space_to_full_frame(p_car_space)\n",
    "\t\tx = p_full_frame[0]\n",
    "\t\ty = p_full_frame[1]\n",
    "# \t\tprint(x,y)\n",
    "\t\tif x<0 or y<0:\n",
    "\t\t\tcontinue\n",
    "\t\tpvd.add_pt(x,y)\n",
    "\t\tpvd.cnt += 1\n",
    "\tfor i in range(MODEL_PATH_MAX_VERTICES_CNT // 2, 0, -1):\n",
    "\t\tpx = float(i)\n",
    "\t\tif is_ghost:\n",
    "\t\t\tpy = points[i]-off\n",
    "\t\telse:\n",
    "\t\t\tpy = points[i]+off\n",
    "\t\tp_car_space = np.array([px, py, 0, 1])\n",
    "\t\tp_full_frame = car_space_to_full_frame(p_car_space)\n",
    "\t\tx = p_full_frame[0]\n",
    "\t\ty = p_full_frame[1]\n",
    "\t\tif x<0 or y<0:\n",
    "\t\t\tcontinue\n",
    "\t\tpvd.add_pt(x,y)\n",
    "\t\tpvd.cnt += 1\n",
    "\treturn pvd\n",
    "\n",
    "def update(p):\n",
    "\tu1 = update_lane_line_data(p.points,0.025*p.prob, False)\n",
    "\tvar = min(p.std, 0.7)\n",
    "\tu2 = update_lane_line_data(p.points,-var, True)\n",
    "\tu3 = update_lane_line_data(p.points,var, True)\n",
    "\treturn u1,u2,u3\n",
    "\n",
    "def draw_lane(img, model):\n",
    "\tp1,p2,p3 = update(model.path)\n",
    "\tlp1,lp2,lp3 = update(model.left_lane)\n",
    "\trp1,rp2,rp3 = update(model.right_lane)\n",
    "\timg = draw(img, p1, (255,0,0))\n",
    "\timg = draw(img, p2, (255,0,0))\n",
    "\timg = draw(img, p3, (255,0,0))\n",
    "\timg = draw(img, lp1, (0,255,0))\n",
    "\timg = draw(img, lp2, (0,255,0))\n",
    "\timg = draw(img, lp3, (0,255,0))\n",
    "\timg = draw(img, rp1, (0,0,255))\n",
    "\timg = draw(img, rp2, (0,0,255))\n",
    "\timg = draw(img, rp3, (0,0,255))\n",
    "\n",
    "\treturn img\n",
    "\n",
    "def draw(img, line, c):\n",
    "\tl = line.v[1:]\n",
    "\t# print(l)\n",
    "\tfor j in range(1,len(l)):\n",
    "\t\tpt1 = (int(l[j-1].x),int(l[j-1].y))\n",
    "\t\tpt2 = (int(l[j].x),int(l[j].y))\n",
    "\t\tcv2.line(img, pt1, pt2, c, 4)\n",
    "\treturn img"
   ]
  },
  {
   "cell_type": "markdown",
   "metadata": {},
   "source": [
    "---"
   ]
  },
  {
   "cell_type": "code",
   "execution_count": 6,
   "metadata": {},
   "outputs": [
    {
     "name": "stdout",
     "output_type": "stream",
     "text": [
      "0:00:07.972831\n"
     ]
    }
   ],
   "source": [
    "pics2 = []\n",
    "n = datetime.datetime.now()\n",
    "for i in range(50):\n",
    "    ii = str(i)\n",
    "    a = np.fromfile('data/results/ress'+ii+'.raw',dtype=np.float32)\n",
    "    a = np.array(a)\n",
    "    model = PathModel(a)\n",
    "    img = cv2.imread('data/pics/'+ii+'.png')\n",
    "    res = draw_lane(img.copy(),model)\n",
    "    pics2.append(res)\n",
    "print(datetime.datetime.now()-n)"
   ]
  },
  {
   "cell_type": "code",
   "execution_count": 8,
   "metadata": {},
   "outputs": [
    {
     "data": {
      "text/plain": [
       "0.16"
      ]
     },
     "execution_count": 8,
     "metadata": {},
     "output_type": "execute_result"
    }
   ],
   "source": [
    "8/50"
   ]
  },
  {
   "cell_type": "code",
   "execution_count": null,
   "metadata": {},
   "outputs": [],
   "source": [
    "def update_lane_line_data(points, off, is_ghost):\n",
    "# \tprint(points)\n",
    "# \tprint(off)\n",
    "\tpvd = Pvd()\n",
    "\tfor i in range(MODEL_PATH_MAX_VERTICES_CNT // 2):\n",
    "\t\tpx = float(i)\n",
    "\t\tpy = points[i] - off\n",
    "\t\tp_car_space = np.array([px, py, 0, 1])\n",
    "\t\tp_full_frame = car_space_to_full_frame(p_car_space)\n",
    "\t\tx = p_full_frame[0]\n",
    "\t\ty = p_full_frame[1]\n",
    "#         print(x,y)\n",
    "\t\tif x<0 or y<0:\n",
    "\t\t\tcontinue\n",
    "\t\tpvd.add_pt(x,y)\n",
    "\t\tpvd.cnt += 1\n",
    "\tfor i in range(MODEL_PATH_MAX_VERTICES_CNT // 2, 0, -1):\n",
    "\t\tpx = float(i)\n",
    "\t\tif is_ghost:\n",
    "\t\t\tpy = points[i]-off\n",
    "\t\telse:\n",
    "\t\t\tpy = points[i]+off\n",
    "\t\tp_car_space = np.array([px, py, 0, 1])\n",
    "\t\tp_full_frame = car_space_to_full_frame(p_car_space)\n",
    "\t\tx = p_full_frame[0]\n",
    "\t\ty = p_full_frame[1]\n",
    "\t\tif x<0 or y<0:\n",
    "\t\t\tcontinue\n",
    "\t\tpvd.add_pt(x,y)\n",
    "\t\tpvd.cnt += 1\n",
    "\treturn pvd"
   ]
  },
  {
   "cell_type": "code",
   "execution_count": null,
   "metadata": {},
   "outputs": [],
   "source": [
    "MODEL_PATH_MAX_VERTICES_CNT=98\n",
    "# rgb_height = 1748/2\n",
    "# rgb_width = 2328/2\n",
    "\n",
    "# intrinsic_matrix = np.array([\n",
    "#   [910., 0., 582.],\n",
    "#   [0., 910., 437.],\n",
    "#   [0.,   0.,   1.]\n",
    "# ])\n",
    "eon_focal_length=910\n",
    "medmodel_zoom = 1.\n",
    "MEDMODEL_INPUT_SIZE = (512, 256)\n",
    "MEDMODEL_YUV_SIZE = (MEDMODEL_INPUT_SIZE[0], MEDMODEL_INPUT_SIZE[1] * 3 // 2)\n",
    "MEDMODEL_CY = 47.6\n",
    "intrinsics = np.array(\n",
    "  [[ eon_focal_length / medmodel_zoom,    0. ,  0.5 * MEDMODEL_INPUT_SIZE[0]],\n",
    "   [   0. ,  eon_focal_length / medmodel_zoom,  MEDMODEL_CY],\n",
    "   [   0. ,                            0. ,   1.]])\n",
    "\n",
    "def car_space_to_full_frame(car_space_projective):\n",
    "    extrinsic = np.array([[ 9.86890774e-03, -9.99951124e-01, -6.39820937e-04, 0.00000000e+00],\n",
    "       [-6.46961704e-02, -5.42101086e-20, -9.97905016e-01, 1.22000003e+00],\n",
    "       [ 9.97856200e-01,  9.88962594e-03, -6.46930113e-02, 0.00000000e+00]])\n",
    "    ep = extrinsic.dot(car_space_projective)\n",
    "    # print(ep.shape)\n",
    "    kep = intrinsic_matrix.dot(ep)\n",
    "    p_image = np.array([kep[0]/kep[2], kep[1]/kep[2], 1])\n",
    "    return p_image\n",
    "\n",
    "def update_lane_line_data(points, off, is_ghost):\n",
    "    pvd = {\n",
    "        'cnt':0,\n",
    "        'v':[]\n",
    "    }\n",
    "    for i in range(MODEL_PATH_MAX_VERTICES_CNT // 2):\n",
    "        px = float(i)\n",
    "        py = points[i] - off\n",
    "        p_car_space = np.array([px, py, 0, 1])\n",
    "        p_full_frame = car_space_to_full_frame(p_car_space)\n",
    "        temp = {\n",
    "            'x':p_full_frame[0],\n",
    "            'y':p_full_frame[1],\n",
    "        }\n",
    "        if temp['x']<0 or temp['y']<0:\n",
    "            continue\n",
    "        # if not (px >= 0 and px <= rgb_width and py >= 0 and py <= rgb_height):\n",
    "            # continue\n",
    "        pvd['v'].append(temp)\n",
    "        pvd['cnt'] += 1\n",
    "    for i in range(MODEL_PATH_MAX_VERTICES_CNT // 2, 0, -1):\n",
    "        px = float(i)\n",
    "        if is_ghost:\n",
    "            py = points[i]-off\n",
    "        else:\n",
    "            py = points[i]+off\n",
    "        p_car_space = np.array([px, py, 0, 1])\n",
    "        p_full_frame = car_space_to_full_frame(p_car_space)\n",
    "        temp = {\n",
    "            'x':p_full_frame[0],\n",
    "            'y':p_full_frame[1],\n",
    "        }\n",
    "        if temp['x']<0 or temp['y']<0:\n",
    "            continue\n",
    "\n",
    "        pvd['v'].append(temp)\n",
    "        pvd['cnt'] += 1\n",
    "    return pvd\n",
    "\n",
    "def update(p):\n",
    "    p1 = update_lane_line_data(p['points'],0.025*p['prob'], False)\n",
    "    var = min(p['std'], 0.7)\n",
    "    p2 = update_lane_line_data(p['points'],-var, True)\n",
    "    p3 = update_lane_line_data(p['points'],var, True)\n",
    "    return p1,p2,p3"
   ]
  },
  {
   "cell_type": "code",
   "execution_count": null,
   "metadata": {},
   "outputs": [],
   "source": [
    "def draw(line,c):\n",
    "    l = line['v'][1:]\n",
    "    for j in range(1,len(l)):\n",
    "        pt1 = (int(l[j-1]['x']),int(l[j-1]['y']))\n",
    "        pt2 = (int(l[j]['x']),int(l[j]['y']))\n",
    "        cv2.line(img, pt1, pt2, c, 4)"
   ]
  },
  {
   "cell_type": "code",
   "execution_count": null,
   "metadata": {},
   "outputs": [],
   "source": [
    "def draw(line,c):\n",
    "    height = 894\n",
    "    width = 1164\n",
    "    img2 = np.array([[[0,0,0]]*width]*height).astype(np.uint8).copy()\n",
    "    l = line['v'][1:]\n",
    "    for j in range(1,len(l)):\n",
    "        pt1 = (int(l[j-1]['x']),int(l[j-1]['y']))\n",
    "        pt2 = (int(l[j]['x']),int(l[j]['y']))\n",
    "#         print(pt1,pt2)\n",
    "        cv2.line(img2, pt1, pt2, c, 10)\n",
    "        \n",
    "    return img2"
   ]
  },
  {
   "cell_type": "code",
   "execution_count": null,
   "metadata": {},
   "outputs": [],
   "source": [
    "# extrinsic = get_view_frame_from_road_frame(0.21, -0.0, 0.23, 1.22)\n",
    "# extrinsic = get_view_frame_from_road_frame(0.25, -0.0, 0.13, 1.55)\n",
    "# extrinsic = get_view_frame_from_road_frame(0,0,0,1.2)\n",
    "extrinsic = np.array([[ 9.86890774e-03, -9.99951124e-01, -6.39820937e-04, 0.00000000e+00],\n",
    "       [-6.46961704e-02, -5.42101086e-20, -9.97905016e-01, 1.22000003e+00],\n",
    "       [ 9.97856200e-01,  9.88962594e-03, -6.46930113e-02, 0.00000000e+00]])\n",
    "p1,p2,p3 = update(model.path)\n",
    "lp1,lp2,lp3 = update(model.left_lane)\n",
    "rp1,rp2,rp3 = update(model.right_lane)\n",
    "# img = cv2.imread('data/29/preview.png')\n",
    "h = 700\n",
    "img = cv2.resize(img,(512,256))\n",
    "\n",
    "# draw(lp1,(255,0,0))\n",
    "# draw(rp1,(0,0,255))\n",
    "# imshow(img)"
   ]
  },
  {
   "cell_type": "code",
   "execution_count": null,
   "metadata": {},
   "outputs": [],
   "source": [
    "img.shape[:-1]"
   ]
  },
  {
   "cell_type": "code",
   "execution_count": null,
   "metadata": {},
   "outputs": [],
   "source": [
    "l1 = draw(lp1,(1,1,1))\n",
    "l2 = draw(lp2,(1,1,1))\n",
    "l3 = draw(lp3,(1,1,1))\n",
    "left = cv2.resize((l1+l2+l3),(img.shape[1],img.shape[0]))\n",
    "ll1 = draw(lp1,(255,0,0))\n",
    "ll2 = draw(lp2,(255,0,0))\n",
    "ll3 = draw(lp3,(255,0,0))\n",
    "leftt = cv2.resize((ll1+ll2+ll3),(img.shape[1],img.shape[0]))\n",
    "r1 = draw(rp1,(1,1,1))\n",
    "r2 = draw(rp2,(1,1,1))\n",
    "r3 = draw(rp3,(1,1,1))\n",
    "right = cv2.resize((r1+r2+r3),(img.shape[1],img.shape[0]))\n",
    "rr1 = draw(rp1,(0,0,255))\n",
    "rr2 = draw(rp2,(0,0,255))\n",
    "rr3 = draw(rp3,(0,0,255))\n",
    "rightt = cv2.resize((rr1+rr2+rr3),(img.shape[1],img.shape[0]))\n",
    "imshow(img-(left+right)*img+(leftt+rightt))"
   ]
  },
  {
   "cell_type": "code",
   "execution_count": null,
   "metadata": {},
   "outputs": [],
   "source": [
    "imshow(cv2.imread('data/pics/0.png'))"
   ]
  },
  {
   "cell_type": "code",
   "execution_count": null,
   "metadata": {},
   "outputs": [],
   "source": [
    "import time\n",
    "from IPython.display import clear_output\n",
    "pngs = []\n",
    "for i in range(50):\n",
    "#     clear_output()\n",
    "    pngs.append(cv2.imread('data/pics/'+str(i)+'.png'))\n",
    "#     imshow(a)\n",
    "#     time.sleep(0.1)"
   ]
  },
  {
   "cell_type": "code",
   "execution_count": null,
   "metadata": {},
   "outputs": [],
   "source": [
    "for i in range(50):\n",
    "    clear_output()\n",
    "    imshow(pics[i])\n",
    "#     time.sleep(0.1)"
   ]
  },
  {
   "cell_type": "code",
   "execution_count": null,
   "metadata": {},
   "outputs": [],
   "source": [
    "from PIL import Image, ImageDraw\n",
    "pics = []\n",
    "for i in range(50):\n",
    "    pics.append(Image.open('data/pics/'+str(i)+'.png'))"
   ]
  },
  {
   "cell_type": "code",
   "execution_count": null,
   "metadata": {},
   "outputs": [],
   "source": [
    "from IPython.display import Image, display\n",
    "X = Image(url='test.gif')\n",
    "display(X)"
   ]
  },
  {
   "cell_type": "code",
   "execution_count": 1,
   "metadata": {},
   "outputs": [
    {
     "data": {
      "text/html": [
       "<img src=\"test2.gif\"/>"
      ],
      "text/plain": [
       "<IPython.core.display.Image object>"
      ]
     },
     "metadata": {},
     "output_type": "display_data"
    }
   ],
   "source": [
    "from IPython.display import Image, display\n",
    "X = Image(url='test2.gif')\n",
    "display(X)"
   ]
  },
  {
   "cell_type": "code",
   "execution_count": 9,
   "metadata": {},
   "outputs": [],
   "source": [
    "from PIL import Image, ImageDraw\n",
    "imgs2 = [Image.fromarray(cv2.cvtColor(cv2.resize(i,(i.shape[1]//2,i.shape[0]//2)),cv2.COLOR_BGR2RGB)) for i in pics2]\n",
    "imgs2[0].save('test2.gif', format='GIF', append_images=imgs2[1:], save_all=True, duration=70, loop=0)"
   ]
  },
  {
   "cell_type": "code",
   "execution_count": null,
   "metadata": {},
   "outputs": [],
   "source": [
    "imgs2[0].save('test2.gif', format='GIF', append_images=imgs2[1:], save_all=True, duration=100, loop=0)"
   ]
  }
 ],
 "metadata": {
  "kernelspec": {
   "display_name": "Python 3",
   "language": "python",
   "name": "python3"
  },
  "language_info": {
   "codemirror_mode": {
    "name": "ipython",
    "version": 3
   },
   "file_extension": ".py",
   "mimetype": "text/x-python",
   "name": "python",
   "nbconvert_exporter": "python",
   "pygments_lexer": "ipython3",
   "version": "3.5.2"
  }
 },
 "nbformat": 4,
 "nbformat_minor": 4
}
